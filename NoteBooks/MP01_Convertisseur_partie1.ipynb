{
 "cells": [
  {
   "cell_type": "markdown",
   "metadata": {
    "collapsed": true
   },
   "source": [
    "# ISN - Lycée de l'Elorn - 2017/2018"
   ]
  },
  {
   "cell_type": "markdown",
   "metadata": {},
   "source": [
    "## Mini-Projet N°1 : Convertisseur binaire-décimal."
   ]
  },
  {
   "cell_type": "markdown",
   "metadata": {
    "collapsed": true
   },
   "source": [
    "Description du mini-projet : \n",
    "* Ce premier mini-projet est à faire de manière individuelle.\n",
    "* L'objectif est de coder un programme qui permet de réaliser des conversions numériques dans différentes bases.\n",
    "* Dans un premier temps nous allons convertir un nombre binaire en écriture décimale.\n",
    "* Deuxième étape : la conversion du décimal vers le binaire.\n",
    "* Troisième étape : regrouper les deux programmes et demander à l'utilisateur quel type de conversion il souhaite réaliser.\n",
    "* Prolongements : conversions en héxadécimal ( binaire <-> héxa , puis décimal <-> héxa )\n",
    "* Prolongements supplémentaire : conversion dans une base quelconque.\n"
   ]
  },
  {
   "cell_type": "markdown",
   "metadata": {},
   "source": [
    "Evaluation du mini-projet :\n",
    "* Ce mini-projet donnera lieu à une note individuelle qui sera établie selon les critères suivants :\n",
    "    * Fonctionnalité du code ( est-ce que le programme fonctionnne correctement ? )\n",
    "    * Code bien commenté ( le programme est facilement compréhensible par une autre personne)\n",
    "    * Respect des délais ( sauf contre-ordre, le projet est à rendre pour le **06/10/17** )\n",
    "    * Respect de la forme : pour ce projet on répondra directement dans ce notebook.\n",
    "    * Interdiction d'utiliser les fonction bin, int ou hex de Python, toutefois vous pouvez vous en servir comme vérification de votre résultat.\n",
    "    * Etre capable d'expliquer à la demande tout ou partie du code.\n",
    "    * Code personnalisé"
   ]
  },
  {
   "cell_type": "markdown",
   "metadata": {},
   "source": [
    "Objectifs du mini-projet :\n",
    "* Faire le point sur l'algorithmique de base.\n",
    "* Découvrir le langage Python et notamment :\n",
    "    *  les types de variables\n",
    "    *  les interactions utilisateur\n",
    "    *  les boucles for"
   ]
  },
  {
   "cell_type": "markdown",
   "metadata": {},
   "source": [
    "### Première partie : conversion binaire -> décimal"
   ]
  },
  {
   "cell_type": "markdown",
   "metadata": {},
   "source": [
    "#### 1. Le principe de conversion"
   ]
  },
  {
   "cell_type": "markdown",
   "metadata": {},
   "source": [
    "Le binaire correspond à la base 2, cela signifie que les seuls chiffres disponibles sont le 0 et le 1. Ainsi pour compter en binaire, on aura la suite de nombres : 0, 1, 10, 11, 100, 101, 110, 111, 1000, 1001, 1010, 1011, ... qui correspondent aux chiffres 0, 1, 2, 3, 4, 5, 6, 7, 8, 9, 10, 11 ... dans notre système décimal traditionnel."
   ]
  },
  {
   "cell_type": "markdown",
   "metadata": {},
   "source": [
    "Le système binaire ( comme le système décimal est un système de numération de position, c'est-à-dire que la valeur du chiffre dépend de sa **position** dans le nombre.\n",
    "Ainsi dans le nombre 12052 par exemple, le 2 le plus à droite n'a pas la même **valeur** que le 2 qui se trouve après le 1 : \n",
    " * Le 2 le plus à droite est le **chiffre des unités**, il correspond à 2 unités c'est-à-dire $ 2*1 $ ( ou encore $2*10^0$ )\n",
    " * Le 2 qui se trouve après le 1 correspond aux dizaines de mille, il faut le multiplier par $10^4$.\n",
    "\n",
    "En conclusion chaque chiffre est à mulplier par les puissances successives de 10, en commençant par la droite et la puissance 0 : $$ 12052 = 2*10^0 + 5*10^1 + 0*10^2 + 2*10^4 + 1*10^5 $$. "
   ]
  },
  {
   "cell_type": "markdown",
   "metadata": {},
   "source": [
    "Pour convertir un nombre binaire en base 10, le principe est exactement le même, c'est-à-dire que l'on va multiplier chaque chiffre par les puissance successives de **2** ( on est cette fois-ci en base 2 ), en commençant par la droite :\n",
    "\n",
    "$$1110011=1*2^0+1*2^1+0*2^2+0*2^3+1*2^4+1*2^5+1*2^6$$\n",
    "$$1110011_2=115_{10}$$"
   ]
  },
  {
   "cell_type": "markdown",
   "metadata": {},
   "source": [
    "#### 2. Premiers exercices en Python"
   ]
  },
  {
   "cell_type": "markdown",
   "metadata": {},
   "source": [
    "##### Exercice 1 : les variables.\n",
    "\n",
    "En Python les variables sont **auto-déclarées** et **auto-typées** on dit que le langage est **dynamique**. Cela signifie que lorsque vous introduisez une nouvelle variable dans votre code et que vous lui affectez une valeur, Python lui assigne automatiquement un **type** en fonction de la valeur attribuée. La fonction `type()` permet de savoir quel type Python a attribué à la variable. \n",
    "Exemple : Dans des cellule de type code, tester les instructions suivantes et noter les résultats :\n",
    " * `a=2`\n",
    " * `print(a)`\n",
    " * `type(a)`\n",
    " * `b=3.1`\n",
    " * `type(b)`\n",
    " * `c=\"hello\"`\n",
    " * `type(c)`\n",
    " * `type(d)`"
   ]
  },
  {
   "cell_type": "code",
   "execution_count": null,
   "metadata": {
    "collapsed": true
   },
   "outputs": [],
   "source": []
  },
  {
   "cell_type": "markdown",
   "metadata": {},
   "source": [
    "##### Exercice 2 : calculer avec Python.\n",
    "\n",
    "En Python les opérateurs mathématiques sont:\n",
    " * \\* : la multiplication\n",
    " * \\- : soustraction\n",
    " * / : division  (tester 20 / 3)\n",
    " * // : division entière  ( tester 20//3 )\n",
    " * \\+ : addition\n",
    " * \\*\\* : puissance  ( tester 2\\*\\*3 )\n",
    " * % : reste de la division entière ( tester 13 % 2 , puis 12 % 2 )\n",
    " \n",
    " Python respecyte les priorités opératoires. (tester 3+2\\*5 )\n",
    " \n",
    " Remarque : Le symbole \\+ effectue la **concaténation** si les variables snt du type Str, exemple, tester le code suivant : \n",
    " \n",
    " ```\n",
    " a=\"Bonjour\"\n",
    " b=\"tout le monde\"\n",
    " c=a+b\n",
    " print(c)\n",
    " ```\n",
    " \n",
    " **Attention aux problèmes de type de variables : ** tester le code ci-dessous :\n",
    " \n",
    " ```\n",
    " d=\"Hello\"\n",
    " e=12\n",
    " f=d+e\n",
    " ```\n",
    " \n",
    " "
   ]
  },
  {
   "cell_type": "code",
   "execution_count": null,
   "metadata": {
    "collapsed": true
   },
   "outputs": [],
   "source": []
  },
  {
   "cell_type": "markdown",
   "metadata": {},
   "source": [
    "##### Exercice 3 : Interactions avec l'utilisateur.\n",
    "\n",
    "Nous avons régulièrement besoin que l'utilisateur entre des données au clavier, pour cela nous utiliserons la fonction `input()`. On peut rajouter des arguments à cette fonction dans les parenthèses. Tester :\n",
    "\n",
    "```\n",
    "nom = input (\"entrez votre nom : \")\n",
    "print(nom)\n",
    "```\n",
    "\n",
    "La fonction print() permet d'afficher les contenus de plusieurs variables en un eseul appel, séparés par un espace :\n",
    "\n",
    "```\n",
    "a=\"Bonjour\"\n",
    "b=\"les élèves d'ISN\"\n",
    "print(a,b)\n",
    "```"
   ]
  },
  {
   "cell_type": "code",
   "execution_count": null,
   "metadata": {
    "collapsed": true
   },
   "outputs": [],
   "source": []
  },
  {
   "cell_type": "markdown",
   "metadata": {},
   "source": [
    "**Attention :** Quel est le type de la variable obtenue avec le fonction `input()` ?"
   ]
  },
  {
   "cell_type": "markdown",
   "metadata": {},
   "source": [
    "Nous pouvons \"forcer\" le type d'une variable lorsque cela est possible. PAr exemple si on veut absolument que la variable soit du type entier on lui applique la fonction int() : \n",
    "\n",
    "```\n",
    "a=input()\n",
    "print(\"a est égal à :\",a)\n",
    "print(\"le type de a est\",type(a))\n",
    "b=int(a)\n",
    "print(\"b est égal à :\",b)\n",
    "print(\"le type de b est\",type(b))\n",
    "```"
   ]
  },
  {
   "cell_type": "code",
   "execution_count": null,
   "metadata": {},
   "outputs": [],
   "source": []
  },
  {
   "cell_type": "markdown",
   "metadata": {},
   "source": [
    "##### Exercice 4 : Syntaxe de la boucle pour.\n",
    "\n",
    "En Python une notion fondamental est **l'indentation**. Cela correspond au décalage que nous insérons dans le code ( un décalage correspond à un appui sur la touche TAB ou à 4 espaces mais il ne faut pas utiliser les deux méthodes dans un même programme ).\n",
    "\n",
    "Ce décalage permet à Python de savoir quand la boucle se termine . Exemple : tester les code ci-dessous :\n",
    "\n",
    "code 1 : \n",
    "```\n",
    "for i in range(5):\n",
    "    print(i)\n",
    "print(\"fin de la boucle\")\n",
    "```\n",
    "\n",
    "code 2 :\n",
    "```\n",
    "for i in range(5):\n",
    "    print(i)\n",
    "    print(\"fin de la boucle\")\n",
    "```\n",
    "\n",
    "La fonction ` range(n)` définit une liste de taille *n* qui commence à .... et se termine à ...."
   ]
  },
  {
   "cell_type": "code",
   "execution_count": null,
   "metadata": {
    "collapsed": true
   },
   "outputs": [],
   "source": []
  },
  {
   "cell_type": "markdown",
   "metadata": {},
   "source": [
    "La fonction `range()` peut s'utiliser avec 1, 2, ou 3 paramètres, tester les codes suivants et noter les différences :\n",
    "code 3 : \n",
    "```\n",
    "for i in range(20):\n",
    "    print(i)\n",
    "print(\"fin de la boucle\")\n",
    "```\n",
    "\n",
    "code 4 :\n",
    "```\n",
    "for i in range(1,20):\n",
    "    print(i)\n",
    "    print(\"fin de la boucle\")\n",
    "```\n",
    "\n",
    "code 5 :\n",
    "```\n",
    "for i in range(1,20,3):\n",
    "    print(i)\n",
    "    print(\"fin de la boucle\")\n",
    "```\n",
    "\n"
   ]
  },
  {
   "cell_type": "code",
   "execution_count": null,
   "metadata": {
    "collapsed": true
   },
   "outputs": [],
   "source": []
  },
  {
   "cell_type": "markdown",
   "metadata": {},
   "source": [
    "On peut aussi parcourir une chaîne de caractères :\n",
    "\n",
    "code 6:\n",
    "```\n",
    "for i in \"Bonjour\":\n",
    "    print(i)\n",
    "```"
   ]
  },
  {
   "cell_type": "code",
   "execution_count": null,
   "metadata": {
    "collapsed": true
   },
   "outputs": [],
   "source": []
  },
  {
   "cell_type": "markdown",
   "metadata": {},
   "source": [
    "##### Exercice 5 : Quelques infos sur les chaînes de caractères.\n",
    "\n",
    "Tester les code ci-dessous :\n",
    "\n",
    "code 1 : \n",
    "```\n",
    "a=\"ma chaine de caractères\"\n",
    "b=len(a)\n",
    "print(b)\n",
    "```\n",
    "\n",
    "Que fait la fonction `len()` ?\n",
    "\n",
    "code 2 :\n",
    "```\n",
    "a=\"azerty\"\n",
    "b=len(a)\n",
    "print(a[1])\n",
    "print(a[0])\n",
    "```\n",
    "Afficher la dernière lettre de a ?\n",
    "\n",
    "Dans une boucle, afficher toutes les lettres de a en commençant par la dernière.\n",
    "\n"
   ]
  },
  {
   "cell_type": "code",
   "execution_count": null,
   "metadata": {
    "collapsed": true
   },
   "outputs": [],
   "source": []
  },
  {
   "cell_type": "markdown",
   "metadata": {},
   "source": [
    "#### 3. premier programme"
   ]
  },
  {
   "cell_type": "markdown",
   "metadata": {},
   "source": [
    "On rappelle l'algorithme de conversion binaire -> décimal : \n",
    "\n",
    "1. Demander une valeur binaire (nb_binaire)\n",
    "2. l prend la valeur : longueur de nb_binaire\n",
    "3. nb_decimal = 0\n",
    "4. pour i allant de 0 à l-1:\n",
    "    * n = dernier chiffer de nb_binaire\n",
    "    * nb_decimal = nb_decimal + n\\*2^i\n",
    "    * modifier nb_binaire pour supprimer le dernier chiffre\n",
    "5. Afficher nb_decimal\n",
    "\n",
    "\n",
    "Dans la cellule de code ci-dessous, programmer en Python cet algorithme."
   ]
  },
  {
   "cell_type": "code",
   "execution_count": null,
   "metadata": {
    "collapsed": true
   },
   "outputs": [],
   "source": []
  },
  {
   "cell_type": "markdown",
   "metadata": {},
   "source": [
    "#### 4. Vérification\n",
    "\n",
    "Python est un langage de haut niveau, ce qui signifie qu'il existe de base de nombreuses fonctions prédéfinies. En particulier, la fonction `int()` permet de convertir directement un nombre binaire en décimal. \n",
    "\n",
    "Tester : \n",
    "\n",
    "```\n",
    "int('1110011',2)\n",
    "```"
   ]
  },
  {
   "cell_type": "code",
   "execution_count": null,
   "metadata": {},
   "outputs": [],
   "source": []
  },
  {
   "cell_type": "markdown",
   "metadata": {},
   "source": [
    "Vous pouvez maintenant rajouter dans votre programme une vérification du résultat obtenu en utilisant la fonction `int()`."
   ]
  },
  {
   "cell_type": "markdown",
   "metadata": {},
   "source": [
    "#### 5. Conversion décimal -> binaire\n",
    "\n",
    "Pour convertir un nombre décimal en binaire, nous utiliserons la méthode des divisions successives expliquée ici :\n",
    "\n",
    "(https://www.youtube.com/watch?v=6YI8A8oeVLw)\n",
    "\n",
    "##### 1ère étape : Ecrire l'algorithme de conversion d'un nombre decimal en binaire.\n"
   ]
  },
  {
   "cell_type": "code",
   "execution_count": null,
   "metadata": {
    "collapsed": true
   },
   "outputs": [],
   "source": []
  }
 ],
 "metadata": {
  "kernelspec": {
   "display_name": "Python 3",
   "language": "python",
   "name": "python3"
  },
  "language_info": {
   "codemirror_mode": {
    "name": "ipython",
    "version": 3
   },
   "file_extension": ".py",
   "mimetype": "text/x-python",
   "name": "python",
   "nbconvert_exporter": "python",
   "pygments_lexer": "ipython3",
   "version": "3.7.0"
  }
 },
 "nbformat": 4,
 "nbformat_minor": 2
}
